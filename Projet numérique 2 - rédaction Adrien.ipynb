{
 "cells": [
  {
   "cell_type": "markdown",
   "metadata": {},
   "source": [
    "### Question 3"
   ]
  },
  {
   "cell_type": "markdown",
   "metadata": {},
   "source": [
    "Par le théorème de Cauchy-Lipschitz, démontrer que toute solution initialisée dans $\\mathbb{R}_{>0} \\; \\times \\; \\mathbb{R}_{>0}$ reste dans $\\mathbb{R}_{>0} \\; \\times \\; \\mathbb{R}_{>0}$ sur son ensemble de définition."
   ]
  },
  {
   "cell_type": "markdown",
   "metadata": {},
   "source": [
    "Soit x : I $\\rightarrow$ $\\mathbb{R}^{2}$ une solution qu'on initialise dans $\\mathbb{R}_{>0} \\; \\times \\; \\mathbb{R}_{>0}$.\n",
    "\n",
    "Supposons que cette solution ne soit pas définie dans $\\mathbb{R}_{>0} \\; \\times \\; \\mathbb{R}_{>0}$ sur tout son ensemble de définition. On a alors : \n",
    "\n",
    "$$ \\exists \\; t_{0} \\in I \\; tel \\; que : \\;\\;\\; x_{1}(t_{0}) = 0 \\; ou \\; x_{2}(t_{0}) = 0  $$\n",
    "\n",
    "\n",
    "Soit un tel $t_{0}$\n",
    "\n"
   ]
  },
  {
   "cell_type": "markdown",
   "metadata": {},
   "source": [
    "\n",
    "\n",
    "$\\textbf{1er cas :}$ $x_{1}(t_{0}) = 0$\n",
    "\n",
    "Alors $\\dot{x_{1}} (t_{0}) = 0$. À partir du temps $t_{0}$, la valeur de $x_{1}$ est constante égale à 0. \n",
    "\n",
    "$$ \\forall t \\; > \\; t_{0}, \\; x_{1}(t) = 0 $$\n",
    "\n",
    "De plus,   $ \\forall t \\; > \\; t_{0}$,    $\\dot{x_{2}} = - \\gamma x_{2} $\n",
    "\n",
    "La valeur de $x_{2}$ va donc tendre vers 0 le long de l'axe d'annulation de $x_{1}$ (car $\\gamma$ > 0).\n",
    "\n",
    " $ \\forall t \\; > \\; t_{0}$, \n",
    " \n",
    "$$ \n",
    "\\left\\{\\begin{matrix}\n",
    "x_{1}(t) = 0 \\\\ \n",
    "x_{2}(t) = x_{2}(t_{0}) e^{- \\gamma (t-t_{0})}\n",
    "\\end{matrix}\\right. \n",
    "$$\n",
    "\n",
    "Considérons la fonction y : I $\\rightarrow$ $\\mathbb{R}^{2}$ : \n",
    "\n",
    "$$\n",
    "\\forall t \\in I,\n",
    "\\left\\{\\begin{matrix}\n",
    "y_{1}(t) = 0\\\\ \n",
    "y_{2}(t) = x_{2}(t_{0})e^{- \\gamma (t-t_{0})}\n",
    "\\end{matrix}\\right.\n",
    "$$\n",
    "\n",
    "y est solution du système d'équations de Lotka-Volterra, tout comme x. De plus, à l'instant t = $t_{0}$, on a $x(t_{0}) = y(t_{0})$. On tient là deux éléments distincts de $S_{f}(t_{0},x(t_{0}))$ (distincts car avant $t_{0}$, x est dans $\\mathbb{R}_{>0} \\; \\times \\; \\mathbb{R}_{>0}$) . Cependant, le théorème de Cauchy-Lipschitz nous garantit l'unicité d'une solution maximale dans $S_{f}(t_{0},x(t_{0}))$, c'est absurde !"
   ]
  },
  {
   "cell_type": "markdown",
   "metadata": {},
   "source": [
    "\n",
    "\n",
    "$\\textbf{2ème cas :} \\; x_{2}(t_{0}) = 0 $\n",
    "\n",
    "Alors $\\dot{x_{2}} (t_{0}) = 0$. À partir du temps $t_{0}$, la valeur de $x_{2}$ est constante égale à 0. \n",
    "\n",
    "$$ \\forall t \\; > \\; t_{0}, \\; x_{2}(t) = 0 $$\n",
    "\n",
    "De plus,   $ \\forall t \\; > \\; t_{0}$,    $\\dot{x_{1}} = \\alpha x_{1} $\n",
    "\n",
    "La valeur de $x_{1}$ va donc tendre vers + $\\infty$ le long de l'axe d'annulation de $x_{2}$ (car $\\alpha$ > 0).\n",
    "\n",
    " $ \\forall t \\; > \\; t_{0}$, \n",
    " \n",
    "$$ \n",
    "\\left\\{\\begin{matrix}\n",
    "x_{1}(t) = x_{1}(t_{0}) e^{\\alpha (t-t_{0})}\\\\\n",
    "x_{2}(t) = 0 \n",
    "\\end{matrix}\\right. \n",
    "$$\n",
    "\n",
    "De même que précédemment, on peut construire la fonction y : I $\\rightarrow$ $\\mathbb{R}^{2}$ :\n",
    "\n",
    "$$\n",
    "\\forall t \\in I,\n",
    "\\left\\{\\begin{matrix}\n",
    "y_{1}(t) = x_{1}(t_{0}) e^{\\alpha (t-t_{0})}\\\\ \n",
    "y_{2}(t) = 0\n",
    "\\end{matrix}\\right.\n",
    "$$\n",
    "\n",
    "À nouveau, x et y sont des éléments différents de $S_{f}(t_{0},x(t_{0}))$, or le théorème de Cauchy-Lipschitz nous garantit l'unicité d'une solution maximale dans $S_{f}(t_{0},x(t_{0}))$. C'est absurde."
   ]
  },
  {
   "cell_type": "markdown",
   "metadata": {},
   "source": [
    "### ^VERIFIER CETTE HISTOIRE DE SOLUTION MAXIMALE^"
   ]
  },
  {
   "cell_type": "markdown",
   "metadata": {},
   "source": [
    "### Question 4"
   ]
  },
  {
   "cell_type": "markdown",
   "metadata": {},
   "source": [
    "Finalement, on arrive à une absurdité peu importe le cas de figure. Ainsi, toute solution initialisée dans $\\mathbb{R}_{>0} \\; \\times \\; \\mathbb{R}_{>0}$ va y rester sur son ensemble de définition "
   ]
  },
  {
   "cell_type": "markdown",
   "metadata": {},
   "source": [
    "On considère la fonction \n",
    "\n",
    "$$H(x_{1},x_{2}) = \\delta x_{1} - \\gamma ln x_{1} + \\beta x_{2} - \\alpha ln x_{2}$$\n",
    "\n",
    "définie sur $\\mathbb{R}_{>0} \\; \\times \\; \\mathbb{R}_{>0}$. Calculer la dérivée de $\\mathit{H}$ le long des solutions initialisées dans $\\mathbb{R}_{>0} \\; \\times \\; \\mathbb{R}_{>0}$. En déduire que toute solution maximale initialisée dans $\\mathbb{R}_{>0} \\; \\times \\; \\mathbb{R}_{>0}$ est définie sur $\\mathbb{R}$."
   ]
  },
  {
   "cell_type": "markdown",
   "metadata": {},
   "source": [
    "Nous allons étudier les variations de $H(x_{1}(t), x_{2}(t))$ au fil du temps.\n",
    "\n",
    "$$\\mathit{\\begin{align*}\n",
    " \\forall t \\in I, \\; H'(x(t)) &= \\delta \\dot{x_{1}} - \\gamma \\frac{\\dot{x_{1}}}{x_{1}} + \\beta \\dot{x_{2}} - \\alpha \\frac{\\dot{x_{2}}}{x_{2}}\\\\ \n",
    " &= \\dot{x_{1}}(\\delta - \\frac{\\gamma}{x_{1}}) + \\dot{x_{2}}(\\beta - \\frac{\\alpha}{x_{2}}) \\\\ \n",
    " &= x_{1}(\\alpha - \\beta x_{2})(\\delta - \\frac{\\gamma}{x_{1}}) - x_{2}(\\gamma - \\delta x_{1})(\\beta - \\frac{\\alpha}{x_{2}}) \\; avec \\; les \\; équations \\; de \\; Lotka-Volterra \\\\ \n",
    " &= 0\n",
    "\\end{align*}}$$\n",
    "\n",
    "$H$ est donc une quantité qui se conserve dans le temps, $H(x(t))$ ne dépend pas de $t$.\n",
    "\n",
    "Soit $x$ une solution maximale initialisée dans $\\mathbb{R}_{>0} \\; \\times \\; \\mathbb{R}_{>0}$. Supposons que cette solution n'est pas définie sur $\\mathbb{R}$. Alors par définition du domaine d'existence maximal il existe un instant $t_{lim}$ tel que $\\left \\| x(t) \\right \\| \\underset{t \\rightarrow t_{lim}}{\\rightarrow} + \\infty$ ou tel que $d((t,x(t)),\\partial(\\mathbb{R} \\times (\\mathbb{R}_{>0} \\; \\times \\; \\mathbb{R}_{>0})) \\underset{t \\rightarrow t_{lim}}{\\rightarrow} 0 $.\n",
    "\n",
    "Soit un tel $t_{lim}$. À l'instant initial $t_{dep}$, on est dans le domaine $\\mathbb{R}_{>0} \\; \\times \\; \\mathbb{R}_{>0}$, par conséquent on peut calculer $H(x(t_{dep})$. Cette quantité sera conservée dans le temps, on sait que :\n",
    "$$ \\forall t \\in I, H(x(t)) = H(x(t_{dep})) \\in \\mathbb{R}$$\n",
    "\n"
   ]
  },
  {
   "cell_type": "markdown",
   "metadata": {},
   "source": [
    "Supposons qu'on soit dans le 1er cas de figure : alors $\\left \\| x(t) \\right \\| \\underset{t \\rightarrow t_{lim}}{\\rightarrow} + \\infty$. Cependant, cela implique que $H(x(t)) \\underset{t \\rightarrow t_{lim}}{\\rightarrow} + \\infty$ par définition de $H$, or c'est impossible car on a vu que $H$ est constant dans le temps."
   ]
  },
  {
   "cell_type": "markdown",
   "metadata": {},
   "source": [
    "Supposons maintenant qu'on soit dans le 2eme cas de figure : $d((t,x(t)),\\partial(\\mathbb{R} \\times (\\mathbb{R}_{>0} \\; \\times \\; \\mathbb{R}_{>0})) \\underset{t \\rightarrow t_{lim}}{\\rightarrow} 0 $.\n",
    "\n",
    "Concrètement, cela veut dire que $x_{1}(t) \\underset{t \\rightarrow t_{lim}}{\\rightarrow} 0 \\;$ et/ou $\\; x_{2}(t) \\underset{t \\rightarrow t_{lim}}{\\rightarrow} 0$. Cependant, on aurait alors $H(x(t)) \\underset{t \\rightarrow t_{lim}}{\\rightarrow} - \\infty$ par définition de $H$, ce qui est impossible car $H$ est constant dans le temps"
   ]
  },
  {
   "cell_type": "markdown",
   "metadata": {},
   "source": [
    "Finalement, on en conclut qu'un tel cas de figure est impossible. Toute solution maximale initialisée dans $\\mathbb{R}_{>0} \\; \\times \\; \\mathbb{R}_{>0}$ est définie sur $\\mathbb{R}$"
   ]
  },
  {
   "cell_type": "markdown",
   "metadata": {},
   "source": [
    "### Question 6"
   ]
  },
  {
   "cell_type": "markdown",
   "metadata": {},
   "source": [
    "Coder une fonction du type \n",
    "\n",
    "$def$ solve_euler_explicit$(f,x0,dt,t0,tf):$\n",
    "    \n",
    "    ...\n",
    "    \n",
    "    return t,x\n",
    "    \n",
    "prenant en entrée une fonction $f : \\mathbb{R} \\times \\mathbb{R}^{n} \\rightarrow \\mathbb{R}^{n}$ quelconque, une condition initiale $x_{0}$, un pas de temps $dt$, les temps initiaux et finaux, et renvoyant le vecteur des temps $t^{j}$ et de la solution $x^{j}$ du schéma d'Euler explicite appliqué à $\\dot{x} = f(t,x)$. La tester sur une équation différentielle aux solutions exactes connues. Vérifier la convergence du schéma lorsque $dt$ tend vers 0. Comment visualiser graphiquement l'ordre de convergence ?"
   ]
  },
  {
   "cell_type": "markdown",
   "metadata": {},
   "source": [
    "Pour construire la liste des temps $t^{j}$, on va construire une série de temps espacés de $dt$ à partir de $t_{0}$, et ce le plus longtemps possible avant qu'on ne soit trop près de $t_{f}$, et alors on ajoute $t_{f}$ à la liste."
   ]
  },
  {
   "cell_type": "markdown",
   "metadata": {},
   "source": [
    "$\\mathbf{Schéma \\; d'Euler\\;  explicite : }$\n",
    "\n",
    "Pour chaque coordonée $x_{i}$, avec $i \\in \\left [ 1,...,n \\right ]$, on calcule la valeur en $t_{j+1}$ selon l'approximation :\n",
    "\n",
    "$$\\forall i \\in \\left [ 1,...,n \\right ], \\forall j \\in \\left [ 1,...,N \\right ], \\; x_{i}(t^{j+1}) = x_{i}(t^{j}) + (t^{j+1} - t^{j})f(t^{j},x_{i}(t^{j})) $$\n",
    "\n",
    "Ici on fonctionne avec des tableaux vectorisés, donc dans le code on va procéder de la même manière, en faisant directement l'opération sur le vecteur $x$ de taille $n$ :\n",
    "\n",
    "$$ \\forall j \\in \\left [ 1,...,N \\right ], \\; x(t^{j+1}) = x(t^{j}) + (t^{j+1} - t^{j})f(t^{j},x(t^{j})) $$"
   ]
  },
  {
   "cell_type": "code",
   "execution_count": 5,
   "metadata": {},
   "outputs": [],
   "source": [
    "def solve_euler_explicit(f,x0,dt,t0,tf):\n",
    "    t = [t0]\n",
    "    k = 1\n",
    "    while t[-1] < tf - dt:\n",
    "        t.append(t0 + k*dt)\n",
    "        k+=1\n",
    "    t.append(tf)\n",
    "    N = len(t) #On a une liste de N valeurs pour le tableau de temps, ou les N-1 premières sont espacées de dt, et ensuite\n",
    "               #la dernière est tf\n",
    "    x = [x0]\n",
    "    for i in range(N-1): # il nous faut une liste de N valeurs en tout, et on en a déjà une\n",
    "        x.append(x[-1] + (t[i+1] - t[i])*f(t[i],x[-1])) \n",
    "        #ici, on ne peut pas multiplier par le pas dt, car l'écart entre les temps n'est pas tout le temps le même, à la \n",
    "        #étape il ne vaut pas dt\n",
    "    return t,x"
   ]
  },
  {
   "cell_type": "markdown",
   "metadata": {},
   "source": [
    "### ^ QUESTION A FINIR AVEC NOTAMMENT LES TESTS INFORMATIQUES, + vérifier que le tableau est bien vectorisé (si le test marche, ça marche) ^"
   ]
  },
  {
   "cell_type": "markdown",
   "metadata": {},
   "source": [
    "### Question 8"
   ]
  },
  {
   "cell_type": "markdown",
   "metadata": {},
   "source": [
    "Coder maintenant une fonction du type \n",
    "\n",
    "$def$ solve_euler_implicit$(f,x0,dt,t0,tf,itermax = 100):$\n",
    "\n",
    "    ...\n",
    "    \n",
    "    return t,x\n",
    "    \n",
    "donnant la solution d'un schéma d'Euler implicite appliqué à $\\dot{x} = f(t,x)$ selon la méthode présentée dans le cours. Vérifier de nouveau sa convergence sur des solutions connues. Que se passe-t-il cette fois sur les équations de Lotka-Volterra ?"
   ]
  },
  {
   "cell_type": "markdown",
   "metadata": {},
   "source": [
    "On construit la liste des temps $t^{j}$ de la même manière que précédemment, à la question 6. \n",
    "\n",
    "$\\mathbf{Schéma \\; d'Euler \\; implicite :}$\n",
    "\n",
    "Pour chaque coordonée $x_{i}$, avec $i \\in \\left [ 1,...,n \\right ]$, on calcule la valeur en $t_{j+1}$ selon l'approximation :\n",
    "\n",
    "$$\\forall i \\in \\left [ 1,...,n \\right ], \\forall j \\in \\left [ 1,...,N \\right ], \\; x_{i}(t^{j+1}) = x_{i}(t^{j}) + (t^{j+1} - t^{j})f(t^{j+1},x_{i}(t^{j+1})) $$\n",
    "\n",
    "On voit ici qu'on utilise l'évaluation de $f$ en $(t^{j+1},x_{i}(t^{j+1}))$ pour calculer la valeur de $x_{i}(t^{j+1})$, on parle alors de définition $\\mathbf{implicite}$.\n",
    "\n",
    "De la même manière que précédemment, on raisonne ici avec des tableaux vectorisés, on aura donc :\n",
    "\n",
    "$$ \\forall j \\in \\left [ 1,...,N \\right ], \\; x(t^{j+1}) = x(t^{j}) + (t^{j+1} - t^{j})f(t^{j+1},x(t^{j+1})) $$"
   ]
  },
  {
   "cell_type": "markdown",
   "metadata": {},
   "source": [
    "Il faut donc être en mesure de résoudre cette équation pour savoir quelle valeur donner à $x(t^{j+1})$. On réutilise la fonction Newton du 1er projet, qu'on modifie un petit peu car on travaille ici en dimension $n$."
   ]
  },
  {
   "cell_type": "markdown",
   "metadata": {},
   "source": [
    "### < AJOUTER UN ALGO DE DEFINITION DE NEWTON >"
   ]
  },
  {
   "cell_type": "code",
   "execution_count": null,
   "metadata": {},
   "outputs": [],
   "source": [
    "def solve_euler_implicit(f,x0,dt,t0,tf):\n",
    "    t = [t0]\n",
    "    k = 1\n",
    "    while t[-1] < tf - dt:\n",
    "        t.append(t0 + k*dt)\n",
    "        k+=1\n",
    "    t.append(tf)\n",
    "    N = len(t) #On a une liste de N valeurs pour le tableau de temps, ou les N-1 premières sont espacées de dt, et ensuite\n",
    "               #la dernière est tf\n",
    "    x = [x0]\n",
    "    for i in range(N-1): # il nous faut une liste de N valeurs en tout, et on en a déjà une\n",
    "        def phi(var):\n",
    "            return x[-1] - var + (t[i+1] - t[i])*f(t[i+1],var)\n",
    "        x.append(Newton(phi,x[-1])) #on fait partir Newton de la dernière valeur connue de x, car on sait qu'on n'est pas loin\n",
    "        #on définit phi à l'intérieur de la boucle for car cette fonction dépend des valeurs de temps et de x déjà connues\n",
    "    return t,x"
   ]
  },
  {
   "cell_type": "markdown",
   "metadata": {},
   "source": [
    "On a ici $x(t^{j+1})$ défini comme le zéro de la fonction $\\phi_{t^{j},t^{j+1},x^{j}} : x \\rightarrow x(t^{j}) + (t^{j+1} - t^{j})f(t^{j+1},x) - x$"
   ]
  },
  {
   "cell_type": "markdown",
   "metadata": {},
   "source": [
    "### ^ QUESTION A FINIR AVEC NOTAMMENT LES TESTS INFORMATIQUES, + vérifier que le tableau est bien vectorisé (si le test marche, ça marche) ^"
   ]
  },
  {
   "cell_type": "markdown",
   "metadata": {},
   "source": [
    "### Question 9"
   ]
  },
  {
   "cell_type": "markdown",
   "metadata": {},
   "source": [
    "Exprimer pourquoi les solutions de \n",
    "\n",
    "$$\\begin{matrix}\n",
    "\\dot{x_{1}} = x_{1}(\\alpha - \\beta x_{2}) - u_{1}(x_{1},x_{2})(H(x_{1},x_{2}) - H_{0}) \\\\ \n",
    "\\dot{x_{2}} = - x_{2}(\\gamma - \\delta x_{1}) - u_{2}(x_{1},x_{2})(H(x_{1},x_{2}) - H_{0}) \n",
    "\\end{matrix} \\;\\;\\;\\;\\;\\;\\; (9) $$ \n",
    "\n",
    "sont identiques à celles de Lotka-Volterra si $H_{0} = H(x(0))$ pour tout choix de $u : \\mathbb{R}^{2} \\rightarrow \\mathbb{R}^{2}$ continûment différentiable."
   ]
  },
  {
   "cell_type": "markdown",
   "metadata": {},
   "source": [
    "Considérons une solution x : I $\\rightarrow$ $\\mathbb{R}^{2}$ de (9).\n",
    "\n",
    "On note (LV) le système d'équations de Lotka-Volterra.\n",
    "\n",
    "À l'instant initial $t = 0$, on a : $(H(x_{1},x_{2}) - H_{0}) = 0$. Par conséquent, le système (9) est identique à celui de (LV). Le système va donc évoluer selon Lotka-Volterra à l'instant initial. Un court instant plus tard, disons à $t = 0 + dt$, le système a évolué, mais $x(t)$ est tel que  $(H(x(t)) - H_{0}) = 0$ à nouveau, car d'après la question 4, ce terme est nul si l'on suit les équations de (LV), ce que l'on a fait entre $t = 0$ et $t = 0 + dt$. Ainsi, ici encore  $(H(x_{1},x_{2}) - H_{0}) = 0$, et le système (9) est identique à celui de Lotka-Volterra. Entre $t = dt$ et $t = 2dt$, le système évolue donc selon Lotka-Volterra à nouveau, et à $t = 2dt$, on a toujours  $(H(x_{1},x_{2}) - H_{0}) = 0$, et ainsi de suite... Finalement, pour tout temps $t$, ce terme  $(H(x_{1},x_{2}) - H_{0})$ est donc nul, et la solution de (9) est donc également une solution du système (LV), puisqu'elle évolue d'une manière régie par Lotka-Volterra à tout temps $t$.\n",
    "\n",
    "Pour mieux comprendre, faisons une petite analogie : imaginons que $x(t)$ décrit la position d'un randonneur qui se promène. Le couple $(\\dot{x_{1}},\\dot{x_{2}})$ agit comme une carte : ce sont des consignes pour dire au randonneur comment il doit évoluer au fil du temps, où il doit se rendre. Le randonneur veut suivre la carte (9). À l'instant initial, la carte (9) est identique à la carte (LV), donc le randonneur se déplace sur le chemin de Lotka-Volterra pour commencer. Il avance d'un pas, et il regarde à nouveau sa carte. Il se trouve sur le chemin (LV), par conséquent $H(x) - H_{0} = 0$ d'après la question 4, et la carte (9) comprend à nouveau les mêmes consignes que la carte (LV)... Il avance donc encore d'un pas sur le chemin (LV), et ainsi de suite... Finalement, il ne quitte jamais le chemin (LV), et $x$, en vérifiant toutes les consignes de la carte (LV), est donc également une solution du système de Lotka-Volterra.\n",
    "\n",
    "Par ailleurs, si x : I $\\rightarrow$ $\\mathbb{R}^{2}$ est une solution de (LV), alors pour tout temps t, $(H(x(t)) - H_{0}) = 0$ d'après la question 4, et $x$ est donc également une solution de (9)\n",
    "\n",
    "Finalement, x : I $\\rightarrow$ $\\mathbb{R}^{2}$ solution de (9) $\\Leftrightarrow$ $x$ solution de (LV), les solutions de (9) sont identiques à celles de Lotka-Volterra"
   ]
  },
  {
   "cell_type": "markdown",
   "metadata": {},
   "source": [
    "### ^JE SUIS TRES SATISFAIT DE CETTE EXPLICATION, MAIS J'AI UN PETIT SOUCI : ON N'UTILISE PAS VRAIMENT LE FAIT QUE U SOIT CONTINUMENT DIFFERENTIABLE... ^"
   ]
  },
  {
   "cell_type": "markdown",
   "metadata": {},
   "source": [
    "### Question 10"
   ]
  },
  {
   "cell_type": "markdown",
   "metadata": {},
   "source": [
    "Soit $H_{0} \\in \\mathbb{R}$. Calculer la dérivée de $H - H_0$ le long des solutions de ce nouveau système. Montrer que l'on peut choisir $u$ tel que \n",
    "\n",
    "$$ \\frac{\\mathrm{d} }{\\mathrm{d} t}(H(x(t) - H_0) = - k \\left \\| \\nabla H(x(t)) \\right \\|^{2}(H(x(t)) - H_0)$$\n",
    "\n",
    "En déduire qu'alors H(x(t)) converge exponentiellement vers $H_0$ lorsque $t$ tend vers l'infini si $x$ reste à une distance strictement positive de $\\bar{x}$."
   ]
  },
  {
   "cell_type": "markdown",
   "metadata": {},
   "source": [
    "Étudions désormais les variation de $H(x(t)) - H_0$ dans le temps.\n",
    "\n",
    "$$\\mathit{\\begin{align*}\n",
    " \\forall t \\in I, \\; \\frac{\\mathrm{d} }{\\mathrm{d} t}(H(x(t) - H_0) &= \\delta \\dot{x_{1}} - \\gamma \\frac{\\dot{x_{1}}}{x_{1}} + \\beta \\dot{x_{2}} - \\alpha \\frac{\\dot{x_{2}}}{x_{2}}\\\\ \n",
    " &= \\dot{x_{1}}(\\delta - \\frac{\\gamma}{x_{1}}) + \\dot{x_{2}}(\\beta - \\frac{\\alpha}{x_{2}}) \\\\ \n",
    " &= - \\; (H(x(t))-H_0) \\; [u_1(x(t))(\\delta - \\frac{\\gamma}{x_1}) + u_2(x(t))(\\beta - \\frac{\\alpha}{x_2})]\n",
    "\\end{align*}}$$"
   ]
  },
  {
   "cell_type": "markdown",
   "metadata": {},
   "source": [
    "On va donc chercher à choisir $u$ telle que :  $\\;\\;\\;u_1(x_1(t),x_2(t)) = k ( \\delta - \\frac{\\gamma}{x_1(t)})\\;\\;\\;$ et que $\\;\\;\\;u_2(x_1(t),x_2(t)) = k(\\beta - \\frac{\\alpha}{x_2})$\n",
    "\n",
    "En effet, $\\nabla H(x(t)) = (\\delta - \\frac{\\gamma}{x_1}, \\beta - \\frac{\\alpha}{x_2})$, et on a donc :\n",
    "\n",
    "$$\\forall t \\in I, \\frac{\\mathrm{d} }{\\mathrm{d} t}(H(x(t) - H_0) = -k(H(x(t)) - H_0) \\left \\| \\nabla H(x(t)) \\right \\|^{2} \\;\\;\\;\\;\\; (10)$$\n",
    "\n",
    "On remarque également que $u$ est continûment différentiable."
   ]
  },
  {
   "cell_type": "markdown",
   "metadata": {},
   "source": [
    "On voit que le gradient de $H$ s'annule en $\\bar{x}$ :  \n",
    "$$\\nabla H(x(t)) = 0 \\leftrightarrow \\left\\{\\begin{matrix}\n",
    "x_{1} = \\frac{\\delta}{\\gamma}\\\\ \n",
    "x_{2} = \\frac{\\beta}{\\alpha}\n",
    "\\end{matrix}\\right. \\leftrightarrow x = \\bar{x}$$\n",
    "\n",
    "Or l'énoncé précise que l'on reste à une distance strictement positive de $\\bar{x}$. Concrètement, cela veut dire que :  \n",
    "$$\\exists \\; d \\; > \\; 0 \\; tel \\; que \\; \\forall t \\in I, \\left \\| x - \\bar{x} \\right \\| \\geqslant d > 0.$$\n",
    "\n",
    "Avec l'équivalence ci-dessus, on en déduit donc que :\n",
    "$$\\exists \\; c \\; > \\; 0 \\; tel \\; que \\; \\forall t \\in I, \\left \\| \\nabla H(x(t)) \\right \\| \\geqslant c > 0.$$"
   ]
  },
  {
   "cell_type": "markdown",
   "metadata": {},
   "source": [
    "Par ailleurs, on va montrer que la quantité $H(x(t)) - H_{0}$ est de signe constant dans le temps.\n",
    "\n",
    "Supposons par l'absurde qu'il existe un temps $t_{0}$ tel qu'à cet instant, $H(x(t)) - H_{0}$ change de signe. Mathématiquement, cela se traduit par l'annulation de la dérivée par rapport au temps en $t_{0}$. En choisissant $k\\;>\\;0$, et avec $\\left \\| \\nabla H(x(t)) \\right \\| > 0$ comme on l'a vu, cela veut dire que $H(x(t_{0})) - H_{0} = 0$. A l'instant $t_{0}$, $H = H_{0}$ et $\\frac{\\mathrm{d} }{\\mathrm{d} t}(H(x(t_{0}) - H_0) = 0$, donc en réalité $\\forall \\; t \\; > t_{0}, H(x(t)) = H_{0}$.\n",
    "\n",
    "Ainsi, la quantité $H(x(t)) - H_{0}$ s'annule, mais ne change pas de signe ! \n",
    "\n",
    "Supposons que $\\forall t \\in, \\; H(x(t)) - H_{0} > 0$. Alors :\n",
    "\n",
    "$$\\forall t \\in I, \\frac{\\mathrm{d} }{\\mathrm{d} t}(H(x(t) - H_0) \\leqslant -kc^{2}(H(x(t)) - H_0) $$"
   ]
  },
  {
   "cell_type": "markdown",
   "metadata": {},
   "source": [
    "### ^QUESTION A FINIR EGALEMENT^"
   ]
  },
  {
   "cell_type": "markdown",
   "metadata": {},
   "source": []
  }
 ],
 "metadata": {
  "kernelspec": {
   "display_name": "Python 3",
   "language": "python",
   "name": "python3"
  },
  "language_info": {
   "codemirror_mode": {
    "name": "ipython",
    "version": 3
   },
   "file_extension": ".py",
   "mimetype": "text/x-python",
   "name": "python",
   "nbconvert_exporter": "python",
   "pygments_lexer": "ipython3",
   "version": "3.8.5"
  }
 },
 "nbformat": 4,
 "nbformat_minor": 4
}
